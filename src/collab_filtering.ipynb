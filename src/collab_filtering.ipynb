{
 "metadata": {
  "language_info": {
   "codemirror_mode": {
    "name": "ipython",
    "version": 3
   },
   "file_extension": ".py",
   "mimetype": "text/x-python",
   "name": "python",
   "nbconvert_exporter": "python",
   "pygments_lexer": "ipython3",
   "version": "3.8.5-final"
  },
  "orig_nbformat": 2,
  "kernelspec": {
   "name": "python3",
   "display_name": "Python 3",
   "language": "python"
  }
 },
 "nbformat": 4,
 "nbformat_minor": 2,
 "cells": [
  {
   "source": [],
   "cell_type": "markdown",
   "metadata": {}
  },
  {
   "cell_type": "code",
   "execution_count": 4,
   "metadata": {},
   "outputs": [],
   "source": [
    "import pandas as pd\n",
    "import numpy as np\n",
    "from pprint import pprint\n"
   ]
  },
  {
   "cell_type": "code",
   "execution_count": 5,
   "metadata": {},
   "outputs": [
    {
     "output_type": "stream",
     "name": "stdout",
     "text": [
      "Index(['user_id', 'name', 'status', 'hours'], dtype='object')\n          user_id  name    status  hours\n199998  128470551  RUSH  purchase    1.0\n199999  128470551  RUSH      play    1.4\n"
     ]
    }
   ],
   "source": [
    "df = pd.read_csv('../testing_ground/in-progress/steam-200k.csv')\n",
    "print(df.columns)\n",
    "\n",
    "print(df.tail(2))"
   ]
  },
  {
   "cell_type": "code",
   "execution_count": 6,
   "metadata": {
    "tags": []
   },
   "outputs": [
    {
     "output_type": "execute_result",
     "data": {
      "text/plain": [
       "         user_id                                     name status  hours  \\\n",
       "0      151603712               The Elder Scrolls V Skyrim   play  273.0   \n",
       "1       59945701               The Elder Scrolls V Skyrim   play   58.0   \n",
       "2       92107940               The Elder Scrolls V Skyrim   play  110.0   \n",
       "3      250006052               The Elder Scrolls V Skyrim   play  465.0   \n",
       "4       11373749               The Elder Scrolls V Skyrim   play  220.0   \n",
       "...          ...                                      ...    ...    ...   \n",
       "36540   51822361  Warhammer 40,000 Dawn of War  Soulstorm   play   23.0   \n",
       "36541   38317154  Warhammer 40,000 Dawn of War  Soulstorm   play    5.5   \n",
       "36542   36404933  Warhammer 40,000 Dawn of War  Soulstorm   play    5.8   \n",
       "36543   87201181  Warhammer 40,000 Dawn of War  Soulstorm   play   24.0   \n",
       "36544   34901647  Warhammer 40,000 Dawn of War  Soulstorm   play   15.4   \n",
       "\n",
       "        avg_hours  rating  \n",
       "0      115.351792       5  \n",
       "1      115.351792       3  \n",
       "2      115.351792       5  \n",
       "3      115.351792       5  \n",
       "4      115.351792       5  \n",
       "...           ...     ...  \n",
       "36540   14.109091       5  \n",
       "36541   14.109091       2  \n",
       "36542   14.109091       3  \n",
       "36543   14.109091       5  \n",
       "36544   14.109091       5  \n",
       "\n",
       "[36545 rows x 6 columns]"
      ],
      "text/html": "<div>\n<style scoped>\n    .dataframe tbody tr th:only-of-type {\n        vertical-align: middle;\n    }\n\n    .dataframe tbody tr th {\n        vertical-align: top;\n    }\n\n    .dataframe thead th {\n        text-align: right;\n    }\n</style>\n<table border=\"1\" class=\"dataframe\">\n  <thead>\n    <tr style=\"text-align: right;\">\n      <th></th>\n      <th>user_id</th>\n      <th>name</th>\n      <th>status</th>\n      <th>hours</th>\n      <th>avg_hours</th>\n      <th>rating</th>\n    </tr>\n  </thead>\n  <tbody>\n    <tr>\n      <th>0</th>\n      <td>151603712</td>\n      <td>The Elder Scrolls V Skyrim</td>\n      <td>play</td>\n      <td>273.0</td>\n      <td>115.351792</td>\n      <td>5</td>\n    </tr>\n    <tr>\n      <th>1</th>\n      <td>59945701</td>\n      <td>The Elder Scrolls V Skyrim</td>\n      <td>play</td>\n      <td>58.0</td>\n      <td>115.351792</td>\n      <td>3</td>\n    </tr>\n    <tr>\n      <th>2</th>\n      <td>92107940</td>\n      <td>The Elder Scrolls V Skyrim</td>\n      <td>play</td>\n      <td>110.0</td>\n      <td>115.351792</td>\n      <td>5</td>\n    </tr>\n    <tr>\n      <th>3</th>\n      <td>250006052</td>\n      <td>The Elder Scrolls V Skyrim</td>\n      <td>play</td>\n      <td>465.0</td>\n      <td>115.351792</td>\n      <td>5</td>\n    </tr>\n    <tr>\n      <th>4</th>\n      <td>11373749</td>\n      <td>The Elder Scrolls V Skyrim</td>\n      <td>play</td>\n      <td>220.0</td>\n      <td>115.351792</td>\n      <td>5</td>\n    </tr>\n    <tr>\n      <th>...</th>\n      <td>...</td>\n      <td>...</td>\n      <td>...</td>\n      <td>...</td>\n      <td>...</td>\n      <td>...</td>\n    </tr>\n    <tr>\n      <th>36540</th>\n      <td>51822361</td>\n      <td>Warhammer 40,000 Dawn of War  Soulstorm</td>\n      <td>play</td>\n      <td>23.0</td>\n      <td>14.109091</td>\n      <td>5</td>\n    </tr>\n    <tr>\n      <th>36541</th>\n      <td>38317154</td>\n      <td>Warhammer 40,000 Dawn of War  Soulstorm</td>\n      <td>play</td>\n      <td>5.5</td>\n      <td>14.109091</td>\n      <td>2</td>\n    </tr>\n    <tr>\n      <th>36542</th>\n      <td>36404933</td>\n      <td>Warhammer 40,000 Dawn of War  Soulstorm</td>\n      <td>play</td>\n      <td>5.8</td>\n      <td>14.109091</td>\n      <td>3</td>\n    </tr>\n    <tr>\n      <th>36543</th>\n      <td>87201181</td>\n      <td>Warhammer 40,000 Dawn of War  Soulstorm</td>\n      <td>play</td>\n      <td>24.0</td>\n      <td>14.109091</td>\n      <td>5</td>\n    </tr>\n    <tr>\n      <th>36544</th>\n      <td>34901647</td>\n      <td>Warhammer 40,000 Dawn of War  Soulstorm</td>\n      <td>play</td>\n      <td>15.4</td>\n      <td>14.109091</td>\n      <td>5</td>\n    </tr>\n  </tbody>\n</table>\n<p>36545 rows × 6 columns</p>\n</div>"
     },
     "metadata": {},
     "execution_count": 6
    }
   ],
   "source": [
    "df = df[(df['hours']>=2) & (df['status']=='play')]\n",
    "df_filtered = df[df.groupby('name').user_id.transform(len) >= 20]\n",
    "df_filtered['name'].nunique()\n",
    "df_filtered.head(20)\n",
    "\n",
    "df_filtered['user_id'] = df_filtered['user_id'].astype(str)\n",
    "averages = df_filtered.groupby(['name'],as_index=False).hours.mean()\n",
    "averages['avg_hours'] = averages['hours']\n",
    "averages.drop('hours',axis=1,inplace=True)\n",
    "# averages.head(10)\n",
    "# averages.loc[averages['name']==\"The Witcher 3 Wild Hunt\"]\n",
    "# print(float(averages[averages[\"name\"]==\"The Witcher 3 Wild Hunt\"]['hours']))\n",
    "# df_filtered['rating'] = df_filtered.apply(get_rating,axis=1)\n",
    "# df_filtered.head(10)\n",
    "\n",
    "# float(averages[averages['name']==df_filtered['name']]['hours'])\n",
    "# df_filtered['rating'] = np.select(conditions,values)\n",
    "final_ratings = pd.merge(df_filtered,averages[['name','avg_hours']],on='name')\n",
    "conditions = [\n",
    "    (final_ratings['hours']>=0.8*final_ratings['avg_hours']),\n",
    "    (final_ratings['hours']>=0.6*final_ratings['avg_hours']) & (final_ratings['hours']<0.8*final_ratings['avg_hours']),\n",
    "    (final_ratings['hours']>=0.4*final_ratings['avg_hours']) & (final_ratings['hours']<0.6*final_ratings['avg_hours']),\n",
    "    (final_ratings['hours']>=0.2*final_ratings['avg_hours']) & (final_ratings['hours']<0.4*final_ratings['avg_hours']),\n",
    "    final_ratings['hours']>=0,\n",
    "]\n",
    "values = [5,4,3,2,1]\n",
    "final_ratings['rating'] = np.select(conditions,values)\n",
    "final_ratings"
   ]
  },
  {
   "cell_type": "code",
   "execution_count": 7,
   "metadata": {},
   "outputs": [
    {
     "output_type": "execute_result",
     "data": {
      "text/plain": [
       "         user_id                                     name  rating\n",
       "0      151603712               The Elder Scrolls V Skyrim       5\n",
       "1       59945701               The Elder Scrolls V Skyrim       3\n",
       "2       92107940               The Elder Scrolls V Skyrim       5\n",
       "3      250006052               The Elder Scrolls V Skyrim       5\n",
       "4       11373749               The Elder Scrolls V Skyrim       5\n",
       "...          ...                                      ...     ...\n",
       "36540   51822361  Warhammer 40,000 Dawn of War  Soulstorm       5\n",
       "36541   38317154  Warhammer 40,000 Dawn of War  Soulstorm       2\n",
       "36542   36404933  Warhammer 40,000 Dawn of War  Soulstorm       3\n",
       "36543   87201181  Warhammer 40,000 Dawn of War  Soulstorm       5\n",
       "36544   34901647  Warhammer 40,000 Dawn of War  Soulstorm       5\n",
       "\n",
       "[36545 rows x 3 columns]"
      ],
      "text/html": "<div>\n<style scoped>\n    .dataframe tbody tr th:only-of-type {\n        vertical-align: middle;\n    }\n\n    .dataframe tbody tr th {\n        vertical-align: top;\n    }\n\n    .dataframe thead th {\n        text-align: right;\n    }\n</style>\n<table border=\"1\" class=\"dataframe\">\n  <thead>\n    <tr style=\"text-align: right;\">\n      <th></th>\n      <th>user_id</th>\n      <th>name</th>\n      <th>rating</th>\n    </tr>\n  </thead>\n  <tbody>\n    <tr>\n      <th>0</th>\n      <td>151603712</td>\n      <td>The Elder Scrolls V Skyrim</td>\n      <td>5</td>\n    </tr>\n    <tr>\n      <th>1</th>\n      <td>59945701</td>\n      <td>The Elder Scrolls V Skyrim</td>\n      <td>3</td>\n    </tr>\n    <tr>\n      <th>2</th>\n      <td>92107940</td>\n      <td>The Elder Scrolls V Skyrim</td>\n      <td>5</td>\n    </tr>\n    <tr>\n      <th>3</th>\n      <td>250006052</td>\n      <td>The Elder Scrolls V Skyrim</td>\n      <td>5</td>\n    </tr>\n    <tr>\n      <th>4</th>\n      <td>11373749</td>\n      <td>The Elder Scrolls V Skyrim</td>\n      <td>5</td>\n    </tr>\n    <tr>\n      <th>...</th>\n      <td>...</td>\n      <td>...</td>\n      <td>...</td>\n    </tr>\n    <tr>\n      <th>36540</th>\n      <td>51822361</td>\n      <td>Warhammer 40,000 Dawn of War  Soulstorm</td>\n      <td>5</td>\n    </tr>\n    <tr>\n      <th>36541</th>\n      <td>38317154</td>\n      <td>Warhammer 40,000 Dawn of War  Soulstorm</td>\n      <td>2</td>\n    </tr>\n    <tr>\n      <th>36542</th>\n      <td>36404933</td>\n      <td>Warhammer 40,000 Dawn of War  Soulstorm</td>\n      <td>3</td>\n    </tr>\n    <tr>\n      <th>36543</th>\n      <td>87201181</td>\n      <td>Warhammer 40,000 Dawn of War  Soulstorm</td>\n      <td>5</td>\n    </tr>\n    <tr>\n      <th>36544</th>\n      <td>34901647</td>\n      <td>Warhammer 40,000 Dawn of War  Soulstorm</td>\n      <td>5</td>\n    </tr>\n  </tbody>\n</table>\n<p>36545 rows × 3 columns</p>\n</div>"
     },
     "metadata": {},
     "execution_count": 7
    }
   ],
   "source": [
    "final_ratings = final_ratings.drop(['status','hours','avg_hours'],axis =1)\n",
    "final_ratings"
   ]
  },
  {
   "cell_type": "code",
   "execution_count": 8,
   "metadata": {
    "tags": []
   },
   "outputs": [
    {
     "output_type": "error",
     "ename": "FileNotFoundError",
     "evalue": "[Errno 2] No such file or directory: 'steam.csv'",
     "traceback": [
      "\u001b[1;31m---------------------------------------------------------------------------\u001b[0m",
      "\u001b[1;31mFileNotFoundError\u001b[0m                         Traceback (most recent call last)",
      "\u001b[1;32m<ipython-input-8-8596dc4970ce>\u001b[0m in \u001b[0;36m<module>\u001b[1;34m\u001b[0m\n\u001b[1;32m----> 1\u001b[1;33m \u001b[0msteam_games\u001b[0m \u001b[1;33m=\u001b[0m \u001b[0mpd\u001b[0m\u001b[1;33m.\u001b[0m\u001b[0mread_csv\u001b[0m\u001b[1;33m(\u001b[0m\u001b[1;34m\"steam.csv\"\u001b[0m\u001b[1;33m)\u001b[0m\u001b[1;33m\u001b[0m\u001b[1;33m\u001b[0m\u001b[0m\n\u001b[0m\u001b[0;32m      2\u001b[0m \u001b[0mcols\u001b[0m \u001b[1;33m=\u001b[0m \u001b[0mlist\u001b[0m\u001b[1;33m(\u001b[0m\u001b[0msteam_games\u001b[0m\u001b[1;33m.\u001b[0m\u001b[0mcolumns\u001b[0m\u001b[1;33m.\u001b[0m\u001b[0mvalues\u001b[0m\u001b[1;33m)\u001b[0m\u001b[1;33m\u001b[0m\u001b[1;33m\u001b[0m\u001b[0m\n\u001b[0;32m      3\u001b[0m \u001b[1;31m# print(cols)\u001b[0m\u001b[1;33m\u001b[0m\u001b[1;33m\u001b[0m\u001b[1;33m\u001b[0m\u001b[0m\n\u001b[0;32m      4\u001b[0m \u001b[1;31m# steam_games\u001b[0m\u001b[1;33m\u001b[0m\u001b[1;33m\u001b[0m\u001b[1;33m\u001b[0m\u001b[0m\n\u001b[0;32m      5\u001b[0m \u001b[0msteam\u001b[0m \u001b[1;33m=\u001b[0m \u001b[0msteam_games\u001b[0m\u001b[1;33m[\u001b[0m\u001b[0mcols\u001b[0m\u001b[1;33m[\u001b[0m\u001b[1;36m0\u001b[0m\u001b[1;33m:\u001b[0m\u001b[1;36m2\u001b[0m\u001b[1;33m]\u001b[0m\u001b[1;33m]\u001b[0m\u001b[1;33m\u001b[0m\u001b[1;33m\u001b[0m\u001b[0m\n",
      "\u001b[1;32m~\\AppData\\Local\\Programs\\Python\\Python38\\lib\\site-packages\\pandas\\io\\parsers.py\u001b[0m in \u001b[0;36mread_csv\u001b[1;34m(filepath_or_buffer, sep, delimiter, header, names, index_col, usecols, squeeze, prefix, mangle_dupe_cols, dtype, engine, converters, true_values, false_values, skipinitialspace, skiprows, skipfooter, nrows, na_values, keep_default_na, na_filter, verbose, skip_blank_lines, parse_dates, infer_datetime_format, keep_date_col, date_parser, dayfirst, cache_dates, iterator, chunksize, compression, thousands, decimal, lineterminator, quotechar, quoting, doublequote, escapechar, comment, encoding, dialect, error_bad_lines, warn_bad_lines, delim_whitespace, low_memory, memory_map, float_precision)\u001b[0m\n\u001b[0;32m    686\u001b[0m     )\n\u001b[0;32m    687\u001b[0m \u001b[1;33m\u001b[0m\u001b[0m\n\u001b[1;32m--> 688\u001b[1;33m     \u001b[1;32mreturn\u001b[0m \u001b[0m_read\u001b[0m\u001b[1;33m(\u001b[0m\u001b[0mfilepath_or_buffer\u001b[0m\u001b[1;33m,\u001b[0m \u001b[0mkwds\u001b[0m\u001b[1;33m)\u001b[0m\u001b[1;33m\u001b[0m\u001b[1;33m\u001b[0m\u001b[0m\n\u001b[0m\u001b[0;32m    689\u001b[0m \u001b[1;33m\u001b[0m\u001b[0m\n\u001b[0;32m    690\u001b[0m \u001b[1;33m\u001b[0m\u001b[0m\n",
      "\u001b[1;32m~\\AppData\\Local\\Programs\\Python\\Python38\\lib\\site-packages\\pandas\\io\\parsers.py\u001b[0m in \u001b[0;36m_read\u001b[1;34m(filepath_or_buffer, kwds)\u001b[0m\n\u001b[0;32m    452\u001b[0m \u001b[1;33m\u001b[0m\u001b[0m\n\u001b[0;32m    453\u001b[0m     \u001b[1;31m# Create the parser.\u001b[0m\u001b[1;33m\u001b[0m\u001b[1;33m\u001b[0m\u001b[1;33m\u001b[0m\u001b[0m\n\u001b[1;32m--> 454\u001b[1;33m     \u001b[0mparser\u001b[0m \u001b[1;33m=\u001b[0m \u001b[0mTextFileReader\u001b[0m\u001b[1;33m(\u001b[0m\u001b[0mfp_or_buf\u001b[0m\u001b[1;33m,\u001b[0m \u001b[1;33m**\u001b[0m\u001b[0mkwds\u001b[0m\u001b[1;33m)\u001b[0m\u001b[1;33m\u001b[0m\u001b[1;33m\u001b[0m\u001b[0m\n\u001b[0m\u001b[0;32m    455\u001b[0m \u001b[1;33m\u001b[0m\u001b[0m\n\u001b[0;32m    456\u001b[0m     \u001b[1;32mif\u001b[0m \u001b[0mchunksize\u001b[0m \u001b[1;32mor\u001b[0m \u001b[0miterator\u001b[0m\u001b[1;33m:\u001b[0m\u001b[1;33m\u001b[0m\u001b[1;33m\u001b[0m\u001b[0m\n",
      "\u001b[1;32m~\\AppData\\Local\\Programs\\Python\\Python38\\lib\\site-packages\\pandas\\io\\parsers.py\u001b[0m in \u001b[0;36m__init__\u001b[1;34m(self, f, engine, **kwds)\u001b[0m\n\u001b[0;32m    946\u001b[0m             \u001b[0mself\u001b[0m\u001b[1;33m.\u001b[0m\u001b[0moptions\u001b[0m\u001b[1;33m[\u001b[0m\u001b[1;34m\"has_index_names\"\u001b[0m\u001b[1;33m]\u001b[0m \u001b[1;33m=\u001b[0m \u001b[0mkwds\u001b[0m\u001b[1;33m[\u001b[0m\u001b[1;34m\"has_index_names\"\u001b[0m\u001b[1;33m]\u001b[0m\u001b[1;33m\u001b[0m\u001b[1;33m\u001b[0m\u001b[0m\n\u001b[0;32m    947\u001b[0m \u001b[1;33m\u001b[0m\u001b[0m\n\u001b[1;32m--> 948\u001b[1;33m         \u001b[0mself\u001b[0m\u001b[1;33m.\u001b[0m\u001b[0m_make_engine\u001b[0m\u001b[1;33m(\u001b[0m\u001b[0mself\u001b[0m\u001b[1;33m.\u001b[0m\u001b[0mengine\u001b[0m\u001b[1;33m)\u001b[0m\u001b[1;33m\u001b[0m\u001b[1;33m\u001b[0m\u001b[0m\n\u001b[0m\u001b[0;32m    949\u001b[0m \u001b[1;33m\u001b[0m\u001b[0m\n\u001b[0;32m    950\u001b[0m     \u001b[1;32mdef\u001b[0m \u001b[0mclose\u001b[0m\u001b[1;33m(\u001b[0m\u001b[0mself\u001b[0m\u001b[1;33m)\u001b[0m\u001b[1;33m:\u001b[0m\u001b[1;33m\u001b[0m\u001b[1;33m\u001b[0m\u001b[0m\n",
      "\u001b[1;32m~\\AppData\\Local\\Programs\\Python\\Python38\\lib\\site-packages\\pandas\\io\\parsers.py\u001b[0m in \u001b[0;36m_make_engine\u001b[1;34m(self, engine)\u001b[0m\n\u001b[0;32m   1178\u001b[0m     \u001b[1;32mdef\u001b[0m \u001b[0m_make_engine\u001b[0m\u001b[1;33m(\u001b[0m\u001b[0mself\u001b[0m\u001b[1;33m,\u001b[0m \u001b[0mengine\u001b[0m\u001b[1;33m=\u001b[0m\u001b[1;34m\"c\"\u001b[0m\u001b[1;33m)\u001b[0m\u001b[1;33m:\u001b[0m\u001b[1;33m\u001b[0m\u001b[1;33m\u001b[0m\u001b[0m\n\u001b[0;32m   1179\u001b[0m         \u001b[1;32mif\u001b[0m \u001b[0mengine\u001b[0m \u001b[1;33m==\u001b[0m \u001b[1;34m\"c\"\u001b[0m\u001b[1;33m:\u001b[0m\u001b[1;33m\u001b[0m\u001b[1;33m\u001b[0m\u001b[0m\n\u001b[1;32m-> 1180\u001b[1;33m             \u001b[0mself\u001b[0m\u001b[1;33m.\u001b[0m\u001b[0m_engine\u001b[0m \u001b[1;33m=\u001b[0m \u001b[0mCParserWrapper\u001b[0m\u001b[1;33m(\u001b[0m\u001b[0mself\u001b[0m\u001b[1;33m.\u001b[0m\u001b[0mf\u001b[0m\u001b[1;33m,\u001b[0m \u001b[1;33m**\u001b[0m\u001b[0mself\u001b[0m\u001b[1;33m.\u001b[0m\u001b[0moptions\u001b[0m\u001b[1;33m)\u001b[0m\u001b[1;33m\u001b[0m\u001b[1;33m\u001b[0m\u001b[0m\n\u001b[0m\u001b[0;32m   1181\u001b[0m         \u001b[1;32melse\u001b[0m\u001b[1;33m:\u001b[0m\u001b[1;33m\u001b[0m\u001b[1;33m\u001b[0m\u001b[0m\n\u001b[0;32m   1182\u001b[0m             \u001b[1;32mif\u001b[0m \u001b[0mengine\u001b[0m \u001b[1;33m==\u001b[0m \u001b[1;34m\"python\"\u001b[0m\u001b[1;33m:\u001b[0m\u001b[1;33m\u001b[0m\u001b[1;33m\u001b[0m\u001b[0m\n",
      "\u001b[1;32m~\\AppData\\Local\\Programs\\Python\\Python38\\lib\\site-packages\\pandas\\io\\parsers.py\u001b[0m in \u001b[0;36m__init__\u001b[1;34m(self, src, **kwds)\u001b[0m\n\u001b[0;32m   2008\u001b[0m         \u001b[0mkwds\u001b[0m\u001b[1;33m[\u001b[0m\u001b[1;34m\"usecols\"\u001b[0m\u001b[1;33m]\u001b[0m \u001b[1;33m=\u001b[0m \u001b[0mself\u001b[0m\u001b[1;33m.\u001b[0m\u001b[0musecols\u001b[0m\u001b[1;33m\u001b[0m\u001b[1;33m\u001b[0m\u001b[0m\n\u001b[0;32m   2009\u001b[0m \u001b[1;33m\u001b[0m\u001b[0m\n\u001b[1;32m-> 2010\u001b[1;33m         \u001b[0mself\u001b[0m\u001b[1;33m.\u001b[0m\u001b[0m_reader\u001b[0m \u001b[1;33m=\u001b[0m \u001b[0mparsers\u001b[0m\u001b[1;33m.\u001b[0m\u001b[0mTextReader\u001b[0m\u001b[1;33m(\u001b[0m\u001b[0msrc\u001b[0m\u001b[1;33m,\u001b[0m \u001b[1;33m**\u001b[0m\u001b[0mkwds\u001b[0m\u001b[1;33m)\u001b[0m\u001b[1;33m\u001b[0m\u001b[1;33m\u001b[0m\u001b[0m\n\u001b[0m\u001b[0;32m   2011\u001b[0m         \u001b[0mself\u001b[0m\u001b[1;33m.\u001b[0m\u001b[0munnamed_cols\u001b[0m \u001b[1;33m=\u001b[0m \u001b[0mself\u001b[0m\u001b[1;33m.\u001b[0m\u001b[0m_reader\u001b[0m\u001b[1;33m.\u001b[0m\u001b[0munnamed_cols\u001b[0m\u001b[1;33m\u001b[0m\u001b[1;33m\u001b[0m\u001b[0m\n\u001b[0;32m   2012\u001b[0m \u001b[1;33m\u001b[0m\u001b[0m\n",
      "\u001b[1;32mpandas\\_libs\\parsers.pyx\u001b[0m in \u001b[0;36mpandas._libs.parsers.TextReader.__cinit__\u001b[1;34m()\u001b[0m\n",
      "\u001b[1;32mpandas\\_libs\\parsers.pyx\u001b[0m in \u001b[0;36mpandas._libs.parsers.TextReader._setup_parser_source\u001b[1;34m()\u001b[0m\n",
      "\u001b[1;31mFileNotFoundError\u001b[0m: [Errno 2] No such file or directory: 'steam.csv'"
     ]
    }
   ],
   "source": [
    "steam_games = pd.read_csv(\"../testing_ground/in-progress/steam.csv\")\n",
    "cols = list(steam_games.columns.values)\n",
    "# print(cols)\n",
    "# steam_games\n",
    "steam = steam_games[cols[0:2]]\n",
    "final_rating = pd.merge(final_ratings,steam,on='name')\n",
    "# print(steam.shape)\n",
    "# print(final_rating.shape)\n",
    "# final_ratings.to_csv(\"ratings.csv\",index=False)\n",
    "\n",
    "# ratings={}\n",
    "# matches = 0\n",
    "# for index,row in final_ratings.iterrows():\n",
    "#     ratings.setdefault(row['name'],0)\n",
    "\n",
    "# print(ratings.keys())\n",
    "# for index2,row2 in steam.iterrows():\n",
    "#         if row2['name']==\"The Witcher 3 Wild Hunt\":\n",
    "#             print(row['name'])\n",
    "#             matches+=1\n",
    "rating = pd.read_csv(\"../testing_ground/sanitized_rated.csv\")\n",
    "steam = pd.read_csv(\"../testing_ground/sanitized_steam_using_join.csv\")\n",
    "\n",
    "rating_games = rating['name'].unique()\n",
    "steam_games = steam['name'].unique()\n",
    "\n",
    "\n",
    "count = 0\n",
    "for game in rating_games:\n",
    "    if game not in steam_games:\n",
    "        count+=1\n",
    "        print(game)\n",
    "print(count)\n",
    "tareen = pd.merge(rating,steam,on='name')\n",
    "# print(tareen.shape)\n",
    "print(tareen['name'].nunique())\n",
    "tareen.to_csv(\"../testing_ground/final_dataset1.csv\",index=False)\n",
    "# steam['name'] = regex.sub('',steam['name']).lower()\n",
    "# steam.head(100)\n",
    "\n",
    "\n",
    "\n"
   ]
  },
  {
   "cell_type": "code",
   "execution_count": null,
   "metadata": {},
   "outputs": [],
   "source": []
  }
 ]
}