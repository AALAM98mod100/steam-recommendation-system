{
 "metadata": {
  "language_info": {
   "codemirror_mode": {
    "name": "ipython",
    "version": 3
   },
   "file_extension": ".py",
   "mimetype": "text/x-python",
   "name": "python",
   "nbconvert_exporter": "python",
   "pygments_lexer": "ipython3",
   "version": "3.8.5-final"
  },
  "orig_nbformat": 2,
  "kernelspec": {
   "name": "python3",
   "display_name": "Python 3"
  }
 },
 "nbformat": 4,
 "nbformat_minor": 2,
 "cells": [
  {
   "source": [],
   "cell_type": "markdown",
   "metadata": {}
  },
  {
   "cell_type": "code",
   "execution_count": 43,
   "metadata": {},
   "outputs": [],
   "source": [
    "import pandas as pd\n",
    "import numpy as np\n",
    "from pprint import pprint\n"
   ]
  },
  {
   "cell_type": "code",
   "execution_count": 44,
   "metadata": {},
   "outputs": [
    {
     "output_type": "stream",
     "name": "stdout",
     "text": [
      "Index(['user_id', 'name', 'status', 'hours'], dtype='object')\n          user_id  name    status  hours\n199998  128470551  RUSH  purchase    1.0\n199999  128470551  RUSH      play    1.4\n"
     ]
    }
   ],
   "source": [
    "df = pd.read_csv('steam-200k.csv')\n",
    "user_dict = dict()\n",
    "game_dict = dict()\n",
    "print(df.columns)\n",
    "\n",
    "print(df.tail(2))"
   ]
  },
  {
   "cell_type": "code",
   "execution_count": 69,
   "metadata": {
    "tags": []
   },
   "outputs": [
    {
     "output_type": "error",
     "ename": "ValueError",
     "evalue": "Can only compare identically-labeled Series objects",
     "traceback": [
      "\u001b[1;31m---------------------------------------------------------------------------\u001b[0m",
      "\u001b[1;31mValueError\u001b[0m                                Traceback (most recent call last)",
      "\u001b[1;32m<ipython-input-69-7d3aeef42df3>\u001b[0m in \u001b[0;36m<module>\u001b[1;34m\u001b[0m\n\u001b[0;32m     19\u001b[0m \u001b[1;31m# ]\u001b[0m\u001b[1;33m\u001b[0m\u001b[1;33m\u001b[0m\u001b[1;33m\u001b[0m\u001b[0m\n\u001b[0;32m     20\u001b[0m \u001b[1;31m# values = [5,4,3,2,1]\u001b[0m\u001b[1;33m\u001b[0m\u001b[1;33m\u001b[0m\u001b[1;33m\u001b[0m\u001b[0m\n\u001b[1;32m---> 21\u001b[1;33m \u001b[0mfloat\u001b[0m\u001b[1;33m(\u001b[0m\u001b[0maverages\u001b[0m\u001b[1;33m[\u001b[0m\u001b[0maverages\u001b[0m\u001b[1;33m[\u001b[0m\u001b[1;34m'name'\u001b[0m\u001b[1;33m]\u001b[0m\u001b[1;33m==\u001b[0m\u001b[0mdf_filtered\u001b[0m\u001b[1;33m[\u001b[0m\u001b[1;34m'name'\u001b[0m\u001b[1;33m]\u001b[0m\u001b[1;33m]\u001b[0m\u001b[1;33m[\u001b[0m\u001b[1;34m'hours'\u001b[0m\u001b[1;33m]\u001b[0m\u001b[1;33m)\u001b[0m\u001b[1;33m\u001b[0m\u001b[1;33m\u001b[0m\u001b[0m\n\u001b[0m\u001b[0;32m     22\u001b[0m \u001b[1;31m# df_filtered['rating'] = np.select(conditions,values)\u001b[0m\u001b[1;33m\u001b[0m\u001b[1;33m\u001b[0m\u001b[1;33m\u001b[0m\u001b[0m\n\u001b[0;32m     23\u001b[0m \u001b[0mdf_filtered\u001b[0m\u001b[1;33m[\u001b[0m\u001b[1;34m'avg_hours'\u001b[0m\u001b[1;33m]\u001b[0m \u001b[1;33m=\u001b[0m \u001b[0mfloat\u001b[0m\u001b[1;33m(\u001b[0m\u001b[0maverages\u001b[0m\u001b[1;33m.\u001b[0m\u001b[0miat\u001b[0m\u001b[1;33m[\u001b[0m\u001b[0maverages\u001b[0m\u001b[1;33m.\u001b[0m\u001b[0miloc\u001b[0m\u001b[1;33m[\u001b[0m\u001b[0maverages\u001b[0m\u001b[1;33m[\u001b[0m\u001b[1;34m'name'\u001b[0m\u001b[1;33m]\u001b[0m\u001b[1;33m==\u001b[0m\u001b[0mdf_filtered\u001b[0m\u001b[1;33m[\u001b[0m\u001b[1;34m'name'\u001b[0m\u001b[1;33m]\u001b[0m\u001b[1;33m]\u001b[0m\u001b[1;33m]\u001b[0m\u001b[1;33m[\u001b[0m\u001b[1;34m'hours'\u001b[0m\u001b[1;33m]\u001b[0m\u001b[1;33m)\u001b[0m\u001b[1;33m\u001b[0m\u001b[1;33m\u001b[0m\u001b[0m\n",
      "\u001b[1;32m~\\AppData\\Local\\Programs\\Python\\Python38\\lib\\site-packages\\pandas\\core\\ops\\common.py\u001b[0m in \u001b[0;36mnew_method\u001b[1;34m(self, other)\u001b[0m\n\u001b[0;32m     63\u001b[0m         \u001b[0mother\u001b[0m \u001b[1;33m=\u001b[0m \u001b[0mitem_from_zerodim\u001b[0m\u001b[1;33m(\u001b[0m\u001b[0mother\u001b[0m\u001b[1;33m)\u001b[0m\u001b[1;33m\u001b[0m\u001b[1;33m\u001b[0m\u001b[0m\n\u001b[0;32m     64\u001b[0m \u001b[1;33m\u001b[0m\u001b[0m\n\u001b[1;32m---> 65\u001b[1;33m         \u001b[1;32mreturn\u001b[0m \u001b[0mmethod\u001b[0m\u001b[1;33m(\u001b[0m\u001b[0mself\u001b[0m\u001b[1;33m,\u001b[0m \u001b[0mother\u001b[0m\u001b[1;33m)\u001b[0m\u001b[1;33m\u001b[0m\u001b[1;33m\u001b[0m\u001b[0m\n\u001b[0m\u001b[0;32m     66\u001b[0m \u001b[1;33m\u001b[0m\u001b[0m\n\u001b[0;32m     67\u001b[0m     \u001b[1;32mreturn\u001b[0m \u001b[0mnew_method\u001b[0m\u001b[1;33m\u001b[0m\u001b[1;33m\u001b[0m\u001b[0m\n",
      "\u001b[1;32m~\\AppData\\Local\\Programs\\Python\\Python38\\lib\\site-packages\\pandas\\core\\ops\\__init__.py\u001b[0m in \u001b[0;36mwrapper\u001b[1;34m(self, other)\u001b[0m\n\u001b[0;32m    363\u001b[0m \u001b[1;33m\u001b[0m\u001b[0m\n\u001b[0;32m    364\u001b[0m         \u001b[1;32mif\u001b[0m \u001b[0misinstance\u001b[0m\u001b[1;33m(\u001b[0m\u001b[0mother\u001b[0m\u001b[1;33m,\u001b[0m \u001b[0mABCSeries\u001b[0m\u001b[1;33m)\u001b[0m \u001b[1;32mand\u001b[0m \u001b[1;32mnot\u001b[0m \u001b[0mself\u001b[0m\u001b[1;33m.\u001b[0m\u001b[0m_indexed_same\u001b[0m\u001b[1;33m(\u001b[0m\u001b[0mother\u001b[0m\u001b[1;33m)\u001b[0m\u001b[1;33m:\u001b[0m\u001b[1;33m\u001b[0m\u001b[1;33m\u001b[0m\u001b[0m\n\u001b[1;32m--> 365\u001b[1;33m             \u001b[1;32mraise\u001b[0m \u001b[0mValueError\u001b[0m\u001b[1;33m(\u001b[0m\u001b[1;34m\"Can only compare identically-labeled Series objects\"\u001b[0m\u001b[1;33m)\u001b[0m\u001b[1;33m\u001b[0m\u001b[1;33m\u001b[0m\u001b[0m\n\u001b[0m\u001b[0;32m    366\u001b[0m \u001b[1;33m\u001b[0m\u001b[0m\n\u001b[0;32m    367\u001b[0m         \u001b[0mlvalues\u001b[0m \u001b[1;33m=\u001b[0m \u001b[0mextract_array\u001b[0m\u001b[1;33m(\u001b[0m\u001b[0mself\u001b[0m\u001b[1;33m,\u001b[0m \u001b[0mextract_numpy\u001b[0m\u001b[1;33m=\u001b[0m\u001b[1;32mTrue\u001b[0m\u001b[1;33m)\u001b[0m\u001b[1;33m\u001b[0m\u001b[1;33m\u001b[0m\u001b[0m\n",
      "\u001b[1;31mValueError\u001b[0m: Can only compare identically-labeled Series objects"
     ]
    }
   ],
   "source": [
    "df = df[(df['hours']>=2) & (df['status']=='play')]\n",
    "df_filtered = df[df.groupby('name').user_id.transform(len) >= 20]\n",
    "df_filtered['name'].nunique()\n",
    "df_filtered.head(20)\n",
    "\n",
    "df_filtered['user_id'] = df_filtered['user_id'].astype(str)\n",
    "averages = df_filtered.groupby(['name'],as_index=False).hours.mean()\n",
    "# averages.loc[averages['name']==\"The Witcher 3 Wild Hunt\"]\n",
    "# print(float(averages[averages[\"name\"]==\"The Witcher 3 Wild Hunt\"]['hours']))\n",
    "# df_filtered['rating'] = df_filtered.apply(get_rating,axis=1)\n",
    "# df_filtered.head(10)\n",
    "\n",
    "# conditions = [\n",
    "#     df_filtered['hours']>=0.8*averages[averages['name'] == df_filtered['name']['hours']],\n",
    "#     df_filtered['hours']>=0.6*averages[averages['name'] == df_filtered['name']['hours']],\n",
    "#     df_filtered['hours']>=0.4*averages[averages['name'] == df_filtered['name']['hours']],\n",
    "#     df_filtered['hours']>=0.2*averages[averages['name'] == df_filtered['name']['hours']],\n",
    "#     df_filtered['hours']>=0,\n",
    "# ]\n",
    "# values = [5,4,3,2,1]\n",
    "# float(averages[averages['name']==df_filtered['name']]['hours'])\n",
    "# df_filtered['rating'] = np.select(conditions,values)\n",
    "df_filtered['avg_hours'] = float(averages.iat[averages.iloc[averages['name']==df_filtered['name']]]['hours'])\n",
    "# df_filtered.head(10)\n"
   ]
  },
  {
   "cell_type": "code",
   "execution_count": 8,
   "metadata": {
    "tags": []
   },
   "outputs": [],
   "source": [
    "# # avg_game_time = dict()\n",
    "# # for user,value in user_dictionary.items():\n",
    "# #     for game,time in value.items():\n",
    "# #         avg_game_time[game] = \n",
    "# user_dictionary = dict(user_dict) #copy over user dictionary\n",
    "# # pprint(user_dictionary)\n",
    "# avg_game_time = dict(mod_dict)\n",
    "# # print(avg_game_time['The Witcher 3 Wild Hunt'])\n",
    "# # print(len(avg_game_time))\n",
    "# for game,value in avg_game_time.items():\n",
    "#     avg_game_time[game] = value[1]/value[0]\n",
    "# print(user_dictionary[292652586])\n",
    "# # print(avg_game_time['Her Story'])\n",
    "# deletable_game = []\n",
    "# for user,value in user_dictionary.items():\n",
    "#     for game,time in value.items():\n",
    "#         # print(game)\n",
    "#         try:\n",
    "#             if time>=avg_game_time[game]*0.8:\n",
    "#                 user_dictionary[user][game] = 5\n",
    "#             elif time>=avg_game_time[game]*0.6:\n",
    "#                 user_dictionary[user][game] = 4\n",
    "#             elif time>=avg_game_time[game]*0.4:\n",
    "#                 user_dictionary[user][game] = 3\n",
    "#             elif time>=avg_game_time[game]*0.2:\n",
    "#                 user_dictionary[user][game] = 2\n",
    "#             elif time>=0:\n",
    "#                 user_dictionary[user][game] = 1\n",
    "#             else:\n",
    "#                 print(\"Reached here tf\\n\")\n",
    "#         except:\n",
    "#             deletable_game.append(game)\n",
    "#             continue\n",
    "# for user in user_dictionary.keys():\n",
    "#     for game in deletable_game:\n",
    "#         try:\n",
    "#             del user_dictionary[game]\n",
    "#         except:\n",
    "#             continue\n",
    "# pprint(user_dictionary)\n",
    "        "
   ]
  }
 ]
}