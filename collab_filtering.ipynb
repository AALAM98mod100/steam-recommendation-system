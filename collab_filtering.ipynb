{
 "metadata": {
  "language_info": {
   "codemirror_mode": {
    "name": "ipython",
    "version": 3
   },
   "file_extension": ".py",
   "mimetype": "text/x-python",
   "name": "python",
   "nbconvert_exporter": "python",
   "pygments_lexer": "ipython3",
   "version": "3.8.5-final"
  },
  "orig_nbformat": 2,
  "kernelspec": {
   "name": "python3",
   "display_name": "Python 3"
  }
 },
 "nbformat": 4,
 "nbformat_minor": 2,
 "cells": [
  {
   "source": [],
   "cell_type": "markdown",
   "metadata": {}
  },
  {
   "cell_type": "code",
   "execution_count": 4,
   "metadata": {},
   "outputs": [],
   "source": [
    "import pandas as pd\n",
    "import numpy as np\n",
    "from pprint import pprint\n"
   ]
  },
  {
   "cell_type": "code",
   "execution_count": 5,
   "metadata": {},
   "outputs": [
    {
     "output_type": "stream",
     "name": "stdout",
     "text": [
      "Index(['user_id', 'name', 'status', 'hours'], dtype='object')\n          user_id  name    status  hours\n199998  128470551  RUSH  purchase    1.0\n199999  128470551  RUSH      play    1.4\n"
     ]
    }
   ],
   "source": [
    "df = pd.read_csv('steam-200k.csv')\n",
    "user_dict = dict()\n",
    "game_dict = dict()\n",
    "print(df.columns)\n",
    "\n",
    "print(df.tail(2))"
   ]
  },
  {
   "cell_type": "code",
   "execution_count": 10,
   "metadata": {
    "tags": []
   },
   "outputs": [
    {
     "output_type": "execute_result",
     "data": {
      "text/plain": [
       "         user_id                                     name status  hours  \\\n",
       "0      151603712               The Elder Scrolls V Skyrim   play  273.0   \n",
       "1       59945701               The Elder Scrolls V Skyrim   play   58.0   \n",
       "2       92107940               The Elder Scrolls V Skyrim   play  110.0   \n",
       "3      250006052               The Elder Scrolls V Skyrim   play  465.0   \n",
       "4       11373749               The Elder Scrolls V Skyrim   play  220.0   \n",
       "...          ...                                      ...    ...    ...   \n",
       "36540   51822361  Warhammer 40,000 Dawn of War  Soulstorm   play   23.0   \n",
       "36541   38317154  Warhammer 40,000 Dawn of War  Soulstorm   play    5.5   \n",
       "36542   36404933  Warhammer 40,000 Dawn of War  Soulstorm   play    5.8   \n",
       "36543   87201181  Warhammer 40,000 Dawn of War  Soulstorm   play   24.0   \n",
       "36544   34901647  Warhammer 40,000 Dawn of War  Soulstorm   play   15.4   \n",
       "\n",
       "        avg_hours  rating  \n",
       "0      115.351792       5  \n",
       "1      115.351792       3  \n",
       "2      115.351792       5  \n",
       "3      115.351792       5  \n",
       "4      115.351792       5  \n",
       "...           ...     ...  \n",
       "36540   14.109091       5  \n",
       "36541   14.109091       2  \n",
       "36542   14.109091       3  \n",
       "36543   14.109091       5  \n",
       "36544   14.109091       5  \n",
       "\n",
       "[36545 rows x 6 columns]"
      ],
      "text/html": "<div>\n<style scoped>\n    .dataframe tbody tr th:only-of-type {\n        vertical-align: middle;\n    }\n\n    .dataframe tbody tr th {\n        vertical-align: top;\n    }\n\n    .dataframe thead th {\n        text-align: right;\n    }\n</style>\n<table border=\"1\" class=\"dataframe\">\n  <thead>\n    <tr style=\"text-align: right;\">\n      <th></th>\n      <th>user_id</th>\n      <th>name</th>\n      <th>status</th>\n      <th>hours</th>\n      <th>avg_hours</th>\n      <th>rating</th>\n    </tr>\n  </thead>\n  <tbody>\n    <tr>\n      <th>0</th>\n      <td>151603712</td>\n      <td>The Elder Scrolls V Skyrim</td>\n      <td>play</td>\n      <td>273.0</td>\n      <td>115.351792</td>\n      <td>5</td>\n    </tr>\n    <tr>\n      <th>1</th>\n      <td>59945701</td>\n      <td>The Elder Scrolls V Skyrim</td>\n      <td>play</td>\n      <td>58.0</td>\n      <td>115.351792</td>\n      <td>3</td>\n    </tr>\n    <tr>\n      <th>2</th>\n      <td>92107940</td>\n      <td>The Elder Scrolls V Skyrim</td>\n      <td>play</td>\n      <td>110.0</td>\n      <td>115.351792</td>\n      <td>5</td>\n    </tr>\n    <tr>\n      <th>3</th>\n      <td>250006052</td>\n      <td>The Elder Scrolls V Skyrim</td>\n      <td>play</td>\n      <td>465.0</td>\n      <td>115.351792</td>\n      <td>5</td>\n    </tr>\n    <tr>\n      <th>4</th>\n      <td>11373749</td>\n      <td>The Elder Scrolls V Skyrim</td>\n      <td>play</td>\n      <td>220.0</td>\n      <td>115.351792</td>\n      <td>5</td>\n    </tr>\n    <tr>\n      <th>...</th>\n      <td>...</td>\n      <td>...</td>\n      <td>...</td>\n      <td>...</td>\n      <td>...</td>\n      <td>...</td>\n    </tr>\n    <tr>\n      <th>36540</th>\n      <td>51822361</td>\n      <td>Warhammer 40,000 Dawn of War  Soulstorm</td>\n      <td>play</td>\n      <td>23.0</td>\n      <td>14.109091</td>\n      <td>5</td>\n    </tr>\n    <tr>\n      <th>36541</th>\n      <td>38317154</td>\n      <td>Warhammer 40,000 Dawn of War  Soulstorm</td>\n      <td>play</td>\n      <td>5.5</td>\n      <td>14.109091</td>\n      <td>2</td>\n    </tr>\n    <tr>\n      <th>36542</th>\n      <td>36404933</td>\n      <td>Warhammer 40,000 Dawn of War  Soulstorm</td>\n      <td>play</td>\n      <td>5.8</td>\n      <td>14.109091</td>\n      <td>3</td>\n    </tr>\n    <tr>\n      <th>36543</th>\n      <td>87201181</td>\n      <td>Warhammer 40,000 Dawn of War  Soulstorm</td>\n      <td>play</td>\n      <td>24.0</td>\n      <td>14.109091</td>\n      <td>5</td>\n    </tr>\n    <tr>\n      <th>36544</th>\n      <td>34901647</td>\n      <td>Warhammer 40,000 Dawn of War  Soulstorm</td>\n      <td>play</td>\n      <td>15.4</td>\n      <td>14.109091</td>\n      <td>5</td>\n    </tr>\n  </tbody>\n</table>\n<p>36545 rows × 6 columns</p>\n</div>"
     },
     "metadata": {},
     "execution_count": 10
    }
   ],
   "source": [
    "df = df[(df['hours']>=2) & (df['status']=='play')]\n",
    "df_filtered = df[df.groupby('name').user_id.transform(len) >= 20]\n",
    "df_filtered['name'].nunique()\n",
    "df_filtered.head(20)\n",
    "\n",
    "df_filtered['user_id'] = df_filtered['user_id'].astype(str)\n",
    "averages = df_filtered.groupby(['name'],as_index=False).hours.mean()\n",
    "averages['avg_hours'] = averages['hours']\n",
    "averages.drop('hours',axis=1,inplace=True)\n",
    "# averages.head(10)\n",
    "# averages.loc[averages['name']==\"The Witcher 3 Wild Hunt\"]\n",
    "# print(float(averages[averages[\"name\"]==\"The Witcher 3 Wild Hunt\"]['hours']))\n",
    "# df_filtered['rating'] = df_filtered.apply(get_rating,axis=1)\n",
    "# df_filtered.head(10)\n",
    "\n",
    "# float(averages[averages['name']==df_filtered['name']]['hours'])\n",
    "# df_filtered['rating'] = np.select(conditions,values)\n",
    "final_ratings = pd.merge(df_filtered,averages[['name','avg_hours']],on='name')\n",
    "conditions = [\n",
    "    (final_ratings['hours']>=0.8*final_ratings['avg_hours']),\n",
    "    (final_ratings['hours']>=0.6*final_ratings['avg_hours']) & (final_ratings['hours']<0.8*final_ratings['avg_hours']),\n",
    "    (final_ratings['hours']>=0.4*final_ratings['avg_hours']) & (final_ratings['hours']<0.6*final_ratings['avg_hours']),\n",
    "    (final_ratings['hours']>=0.2*final_ratings['avg_hours']) & (final_ratings['hours']<0.4*final_ratings['avg_hours']),\n",
    "    final_ratings['hours']>=0,\n",
    "]\n",
    "values = [5,4,3,2,1]\n",
    "# df_filtered['rating'] = np.select(conditions,values)\n",
    "final_ratings['rating'] = np.select(conditions,values)\n",
    "final_ratings"
   ]
  },
  {
   "cell_type": "code",
   "execution_count": null,
   "metadata": {},
   "outputs": [],
   "source": []
  }
 ]
}